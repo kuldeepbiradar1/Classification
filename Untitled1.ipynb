{
 "cells": [
  {
   "cell_type": "code",
   "execution_count": null,
   "metadata": {},
   "outputs": [],
   "source": []
  },
  {
   "cell_type": "code",
   "execution_count": null,
   "metadata": {},
   "outputs": [],
   "source": []
  },
  {
   "cell_type": "code",
   "execution_count": null,
   "metadata": {},
   "outputs": [],
   "source": [
    "##import Libraries\n",
    "import os,shutil\n",
    "from tensorflow import keras\n",
    "import tensorflow as tf"
   ]
  },
  {
   "cell_type": "code",
   "execution_count": null,
   "metadata": {},
   "outputs": [],
   "source": [
    "##Preproces Data-----> From one directory to categorical directory coping data\n",
    "\n",
    "path = '/media/santosh/dddc16e9-b826-4960-82a6-535897b03d3e/kuldeep/classification'\n",
    "file_path = '/media/santosh/dddc16e9-b826-4960-82a6-535897b03d3e/kuldeep/train_class'\n",
    "\n",
    "img_file = os.listdir(path)\n",
    "\n",
    "for i in sorted(img_file):\n",
    "    img_class_name = i.split('_')[0] \n",
    "    path1 = path + '/' + i\n",
    "    det_path_dir = file_path +'/'+ img_class_name\n",
    "    if not os.path.isdir(det_path_dir):\n",
    "        os.mkdir(det_path_dir)\n",
    "    shutil.copyfile(path1 ,det_path_dir + '/' + i)"
   ]
  },
  {
   "cell_type": "code",
   "execution_count": null,
   "metadata": {},
   "outputs": [],
   "source": [
    "\n",
    "## Train and Test Data Paths\n",
    "path_train = '/media/santosh/dddc16e9-b826-4960-82a6-535897b03d3e/kuldeep/train_class'\n",
    "path_test = '/media/santosh/dddc16e9-b826-4960-82a6-535897b03d3e/kuldeep/test_class'"
   ]
  },
  {
   "cell_type": "code",
   "execution_count": null,
   "metadata": {},
   "outputs": [],
   "source": [
    "## Create classification model using keras\n",
    "input_shape = (224, 224,3)\n",
    "img_input = keras.layers.Input(shape=input_shape)\n",
    "\n",
    "x = keras.layers.Conv2D(32, (3, 3), activation='relu',padding='same',name='block1_conv1')(img_input)\n",
    "\n",
    "x = keras.layers.Conv2D(32, (3, 3), activation='relu',padding='same',name='block1_conv2')(x)\n",
    "x = keras.layers.Dropout(0.2)(x)\n",
    "\n",
    "x = keras.layers.MaxPooling2D((2, 2), strides=(2, 2), name='block1_pool')(x)\n",
    "\n",
    "x = keras.layers.Conv2D(64, (3, 3), activation='relu',padding='same',name='block2_conv1')(x)\n",
    "x = keras.layers.Dropout(0.2)(x)\n",
    "\n",
    "x = keras.layers.Conv2D(64, (3, 3), activation='relu',padding='same',name='block2_conv2')(x)\n",
    "x = keras.layers.Dropout(0.2)(x)\n",
    "\n",
    "x = keras.layers.MaxPooling2D((2, 2), strides=(2, 2), name='block2_pool')(x)\n",
    "\n",
    "x = keras.layers.Conv2D(128, (3, 3), activation='relu',padding='same',name='block3_conv1')(x)\n",
    "x = keras.layers.Dropout(0.2)(x)\n",
    "\n",
    "x = keras.layers.MaxPooling2D((2, 2), strides=(2, 2), name='block3_pool')(x)\n",
    "\n",
    "x = keras.layers.Flatten(name='flatten')(x)\n",
    "\n",
    "x = keras.layers.Dense(512, activation='relu', name='fc1')(x)\n",
    "x = keras.layers.Dropout(0.2)(x)\n",
    "\n",
    "x = keras.layers.Dense(128, activation='relu', name='fc2')(x)\n",
    "\n",
    "x = keras.layers.Dense(5, activation='softmax', name='predictions')(x)\n",
    "\n",
    "model = keras.models.Model(img_input, x)\n",
    "\n",
    "model.summary()\n"
   ]
  },
  {
   "cell_type": "code",
   "execution_count": null,
   "metadata": {},
   "outputs": [],
   "source": [
    "## Data Preprocessing and fit on Model\n",
    "train_datagen = tf.keras.preprocessing.image.ImageDataGenerator(\n",
    "        rescale=1./255,\n",
    "        shear_range=0.2,\n",
    "        zoom_range=0.2,\n",
    "        horizontal_flip=True)\n",
    "test_datagen = tf.keras.preprocessing.image.ImageDataGenerator(rescale=1./255)\n",
    "train_generator = train_datagen.flow_from_directory(\n",
    "        path_train,\n",
    "        target_size=(224, 224),\n",
    "        batch_size=32,\n",
    "        class_mode='binary')\n",
    "validation_generator = test_datagen.flow_from_directory(\n",
    "        path_test,\n",
    "        target_size=(224, 224),\n",
    "        batch_size=32,\n",
    "        class_mode='binary')\n"
   ]
  },
  {
   "cell_type": "code",
   "execution_count": null,
   "metadata": {},
   "outputs": [],
   "source": [
    "## Compile and fit model\n",
    "STEP_SIZE_TRAIN=train_generator.n//train_generator.batch_size\n",
    "STEP_SIZE_VALID=validation_generator.n//validation_generator.batch_size\n",
    "\n",
    "model.compile(optimizer='adam', \n",
    "              loss='sparse_categorical_crossentropy',\n",
    "              metrics=['accuracy'])\n",
    "\n",
    "model.fit(train_generator,\n",
    "        steps_per_epoch=STEP_SIZE_TRAIN,\n",
    "        epochs=50,verbose =1)"
   ]
  },
  {
   "cell_type": "code",
   "execution_count": null,
   "metadata": {},
   "outputs": [],
   "source": [
    "##Evaluate proposed model with test dataset\n",
    "model.evaluate_generator(\n",
    "    validation_generator, steps=STEP_SIZE_VALID)"
   ]
  },
  {
   "cell_type": "code",
   "execution_count": null,
   "metadata": {},
   "outputs": [],
   "source": []
  }
 ],
 "metadata": {
  "kernelspec": {
   "display_name": "Python 3",
   "language": "python",
   "name": "python3"
  },
  "language_info": {
   "codemirror_mode": {
    "name": "ipython",
    "version": 3
   },
   "file_extension": ".py",
   "mimetype": "text/x-python",
   "name": "python",
   "nbconvert_exporter": "python",
   "pygments_lexer": "ipython3",
   "version": "3.6.10"
  }
 },
 "nbformat": 4,
 "nbformat_minor": 4
}
